{
 "cells": [
  {
   "cell_type": "code",
   "execution_count": 1,
   "id": "activated-junior",
   "metadata": {},
   "outputs": [],
   "source": [
    "import tensorflow as tf\n",
    "import tensorflow.keras.layers as layers\n",
    "import tensorflow.keras.models as models\n",
    "import tensorflow.keras.optimizers as optim"
   ]
  },
  {
   "cell_type": "code",
   "execution_count": null,
   "id": "other-springer",
   "metadata": {},
   "outputs": [],
   "source": [
    "class AlexNet(models.Model):\n",
    "    \"\"\"AlexNet class for image task\"\"\"\n",
    "    def __init__(self, output_dim):\n",
    "        \"\"\"Constructor\"\"\"\n",
    "        super().__init__()\n",
    "        \n",
    "        PAD_TB = [pad_top, pad_bottom]\n",
    "        PAD_LR = [pad_left, pad_right]\n",
    "        padding0 = [[0, 0], PAD_TB, [0, 0], PAD_LR]\n",
    "        padding1 = [[1, 1], PAD_TB, [1, 1], PAD_LR]\n",
    "        padding2 = [[2, 2], PAD_TB, [2, 2], PAD_LR]\n",
    "        \n",
    "        self.inputs = layers.Input(shape=(None, 227, 227, 3))\n",
    "        self.conv1 = layers.Conv2D(filters=96, kernel_size=11, strides=4, padding=padding0)  # (BS, 55, 55, 96)\n",
    "        self.pool1 = layers.MaxPooling2D(pool_size=3, strides=2)  # (BS, 27, 27, 96)\n",
    "        self.conv2 = layers.Conv2D(filters=256, kernel_size=5, strides=1, padding=padding2)  # (BS, 27, 27, 256)\n",
    "        self.pool2 = layers.MaxPooling2D(pool_size=3, strides=2)  # (BS, 13, 13, 256)\n",
    "        self.conv3 = layers.Conv2D(filters=384, kernel_size=3, strides=1, padding=padding1)  # (BS, 13, 13, 384)\n",
    "        self.conv4 = layers.Conv2D(filters=384, kernel_size=3, strides=1, padding=padding1)  # (BS, 13, 13, 384)\n",
    "        self.conv5 = layers.Conv2D(filters=256, kernel_size=3, strides=1, padding=padding1)  # (BS, 13, 13, 256)\n",
    "        self.pool3 = layers.MaxPooling2D(pool_size=3, strides=2)  # (BS, 6, 6, 256)\n",
    "        self.flatten = layers.Flatten()\n",
    "        self.linear1 = layers.Dense(units=4096)\n",
    "        self.dr1 = layers.Dropout(rate=0.5)\n",
    "        self.linear2 = layers.Dense(units=4096)\n",
    "        self.dr2 = layers.Dropout(rate=0.5)\n",
    "        self.outputs = layers.Dense(units=output_dim)\n",
    "        \n",
    "        \n",
    "    def call(self, x):\n",
    "        inputs = self.inputs(x)\n",
    "        hidden = layers.Activation('relu')(self.conv1(inputs))\n",
    "        hidden = self.pool1(hidden)\n",
    "        hidden = layers.Activation('relu')(self.conv2(hidden))\n",
    "        hidden = self.pool2(hidden)\n",
    "        hidden = layers.Activation('relu')(self.conv3(hidden))\n",
    "        hidden = layers.Activation('relu')(self.conv4(hidden))\n",
    "        hidden = layers.Activation('relu')(self.conv5(hidden))\n",
    "        hidden = self.pool3(hidden)\n",
    "        hidden = self.flatten(hidden)\n",
    "        hidden = layers.Activation('relu')(self.linear1(hidden))\n",
    "        hidden = self.dr1(hidden)\n",
    "        hidden = layers.Activation('relu')(self.linear2(hidden))\n",
    "        hidden = self.dr2(hidden)\n",
    "        outputs = layers.Activation('softmax')(self.outputs(hidden))\n",
    "        \n",
    "        "
   ]
  }
 ],
 "metadata": {
  "kernelspec": {
   "display_name": "Python 3",
   "language": "python",
   "name": "python3"
  },
  "language_info": {
   "codemirror_mode": {
    "name": "ipython",
    "version": 3
   },
   "file_extension": ".py",
   "mimetype": "text/x-python",
   "name": "python",
   "nbconvert_exporter": "python",
   "pygments_lexer": "ipython3",
   "version": "3.6.12"
  }
 },
 "nbformat": 4,
 "nbformat_minor": 5
}
