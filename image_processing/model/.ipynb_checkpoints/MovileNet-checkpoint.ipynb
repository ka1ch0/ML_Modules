{
 "cells": [
  {
   "cell_type": "code",
   "execution_count": 1,
   "id": "involved-screening",
   "metadata": {},
   "outputs": [],
   "source": [
    "import tensorflow as tf\n",
    "from tensorflow.keras.layers import DepthwiseConv2D, Conv2D, BatchNormalization, Activation, Add\n",
    "from tensorflow.keras.models import Model"
   ]
  },
  {
   "cell_type": "code",
   "execution_count": 2,
   "id": "blond-wealth",
   "metadata": {},
   "outputs": [],
   "source": [
    "class InvertedResidualBlock(Model):\n",
    "    def __init__(self, input_channel, output_channel, factor, strides):\n",
    "        super().__init__()\n",
    "        \n",
    "        self.expand = Conv2D(filters=input_channel*factor, kernel_size=1, strides=1, padding='valid')\n",
    "        self.expand_bn = BatchNormalization()\n",
    "        self.expand_av = Activation(tf.nn.relu6)\n",
    "        \n",
    "        self.depthwise = DepthwiseConv2D(kernel_size=3, strides=strides, padding='same')\n",
    "        self.depthwise_bn = BatchNormalization()\n",
    "        self.depthwise_av = Activation(tf.nn.relu6)\n",
    "        \n",
    "        self.projection = Conv2D(filters=output_channel, kernel_size=1, strides=1, padding='valid')\n",
    "        self.projection_bn = BatchNormalization()\n",
    "        \n",
    "        self.add = Add()\n",
    "        self.sc = True if strides==1 else False\n",
    "        \n",
    "    \n",
    "    def call(self, x):\n",
    "        expand = self.expand_av(self.expand_bn(self.expand(x)))\n",
    "        depthwise = self.depthwise_av(self.depthwise_bn(self.depthwise(expand)))\n",
    "        output = self.projection_bn(self.projection(depthwise))\n",
    "        if self.sc:\n",
    "            output = self.add([output, x])\n",
    "            \n",
    "        return output"
   ]
  },
  {
   "cell_type": "code",
   "execution_count": null,
   "id": "latter-northeast",
   "metadata": {},
   "outputs": [],
   "source": []
  }
 ],
 "metadata": {
  "kernelspec": {
   "display_name": "Python 3",
   "language": "python",
   "name": "python3"
  },
  "language_info": {
   "codemirror_mode": {
    "name": "ipython",
    "version": 3
   },
   "file_extension": ".py",
   "mimetype": "text/x-python",
   "name": "python",
   "nbconvert_exporter": "python",
   "pygments_lexer": "ipython3",
   "version": "3.6.12"
  },
  "widgets": {
   "application/vnd.jupyter.widget-state+json": {
    "state": {},
    "version_major": 2,
    "version_minor": 0
   }
  }
 },
 "nbformat": 4,
 "nbformat_minor": 5
}
