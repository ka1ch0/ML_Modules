{
 "cells": [
  {
   "cell_type": "markdown",
   "id": "amino-delaware",
   "metadata": {},
   "source": [
    "# Implemene MobileNet v1\n",
    "paper: https://arxiv.org/pdf/1704.04861.pdf  "
   ]
  },
  {
   "cell_type": "code",
   "execution_count": 1,
   "id": "twenty-repair",
   "metadata": {},
   "outputs": [],
   "source": [
    "from typing import List, Tuple\n",
    "\n",
    "import tensorflow as tf\n",
    "from tensorflow.keras.layers import Input, Dense, Conv2D, DepthwiseConv2D, Activation, BatchNormalization, Layer\n",
    "from tensorflow.keras.models import Model\n",
    "import tensorflow.keras.optimizers as optim\n",
    "import tensorflow.keras.losses as losses"
   ]
  },
  {
   "cell_type": "code",
   "execution_count": null,
   "id": "attractive-roller",
   "metadata": {},
   "outputs": [],
   "source": [
    "class ClassifierMBNetv1(Model):\n",
    "    def __init__(self, output_shape: int,\n",
    "                 activation: str = 'relu',\n",
    "                 optimizer: str = 'rmsprop',\n",
    "                 alpha: float = 1.0,\n",
    "                 rho: int = 224):\n",
    "        self.output_shape = output_shape\n",
    "        self.activation = activation\n",
    "        self.optimizer = optimizer\n",
    "        self.alpha = alpha\n",
    "        self.rho = rho\n",
    "\n",
    "    def dw_layers(self, kernel_size: Tuple[int] = (1, 1), strides: int = 2,\n",
    "                  padding: str = 'valid') -> Layer:\n",
    "        dw_conv = DepthwiseConv2D(kernel_size=kernel_size,\n",
    "                                  strides=strides,\n",
    "                                  padding=padding)\n",
    "        bn = BatchNormalization()(dw_conv)\n",
    "        output = Activation(self.activation)(bn)\n",
    "\n",
    "        return output\n",
    "\n",
    "    def pw_layers(self, filters: int, kernel_size: Tuple[int],\n",
    "                  strides: int = 1, padding: str = 'same') -> Model:\n",
    "        pw_conv = Conv2D(filters=filters*self.alpha,\n",
    "                         kernel_size=kernel_size,\n",
    "                         strides=strides, padding=padding)\n",
    "        bn = BatchNormalization()(pw_conv)\n",
    "        output = Activation(self.activation)(bn)\n",
    "\n",
    "        return output\n",
    "\n",
    "    def dw_pw_layers(self, dw_kernel: Tuple[int] = (3, 3),\n",
    "                     pw_kernel: Tuple[int] = (3, 3),\n",
    "                     dw_strides: int = 1, pw_strides: int = 1,\n",
    "                     padding: str = 'same',\n",
    "                     iteration: int = 5) -> Model:\n",
    "        "
   ]
  }
 ],
 "metadata": {
  "kernelspec": {
   "display_name": "Python 3",
   "language": "python",
   "name": "python3"
  },
  "language_info": {
   "codemirror_mode": {
    "name": "ipython",
    "version": 3
   },
   "file_extension": ".py",
   "mimetype": "text/x-python",
   "name": "python",
   "nbconvert_exporter": "python",
   "pygments_lexer": "ipython3",
   "version": "3.8.8"
  }
 },
 "nbformat": 4,
 "nbformat_minor": 5
}
