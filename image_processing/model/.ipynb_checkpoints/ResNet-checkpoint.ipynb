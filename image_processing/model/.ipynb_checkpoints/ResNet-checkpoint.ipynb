{
 "cells": [
  {
   "cell_type": "markdown",
   "id": "declared-necklace",
   "metadata": {},
   "source": [
    "# ResNet(Deep Residulal Learning for Image Recognition)  \n",
    "paper URL: https://arxiv.org/abs/1512.03385  \n",
    "\n",
    "ショートカットにはprojectionを用いている. \n",
    "\n",
    "$$projection:\\quad y = F(x, {W_i}) + W_sx$$  \n",
    "\n",
    "$$identity:\\quad y = F(x, {W_i}) + x.$$  \n",
    "\n",
    "identityでは入力サイズと出力サイズが異なっていると計算ができないため, その際にはzero paddingを用いてサイズをそろえる.  "
   ]
  },
  {
   "cell_type": "code",
   "execution_count": 1,
   "id": "significant-council",
   "metadata": {},
   "outputs": [],
   "source": [
    "import typing \n",
    "\n",
    "import tensorflow as tf\n",
    "from tensorflow.keras.layers import Input, Dense, BatchNormalization,\\\n",
    "    Activation, Conv2D, MaxPooling2D, Add, GlobalAveragePooling2D\n",
    "from tensorflow.keras.models import Model"
   ]
  },
  {
   "cell_type": "code",
   "execution_count": 2,
   "id": "verified-bulgarian",
   "metadata": {},
   "outputs": [],
   "source": [
    "class Redisual_block(Model):\n",
    "    def __init__(self, input_channel, output_channel):\n",
    "        super().__init__()\n",
    "        self.input_channel = input_channel\n",
    "        self.output_channel = output_channel\n",
    "        self.conv1 = Conv2D(filters=self.input_channel, kernel_size=(3, 3),\n",
    "                            strides=1, padding='same', use_bias=False)\n",
    "        self.bn1 = BatchNormalization()\n",
    "        self.av1 = Activation('relu')\n",
    "        self.conv2 = Conv2D(filters=self.output_channel, kernel_size=(3, 3),\n",
    "                            strides=1, padding='same', use_bias=False)\n",
    "        self.bn2 = BatchNormalization()\n",
    "        self.add = Add()\n",
    "        self.out_av = Activation('relu')\n",
    "\n",
    "    def _shortcut(self, x):\n",
    "        if self.input_channel != self.output_channel:\n",
    "            x = Conv2D(filters=self.output_channel, kernel_size=(1, 1),\n",
    "                       strides=1, padding='same', use_bias=False)(x)\n",
    "            x = BatchNormalization()(x)\n",
    "            x = Activation('relu')(x)\n",
    "            return x\n",
    "        else:\n",
    "            return x\n",
    "\n",
    "    def call(self, x):\n",
    "        h1 = self.conv1(x)\n",
    "        h1 = self.bn1(h1)\n",
    "        h1 = self.av1(h1)\n",
    "        h1 = self.conv2(h1)\n",
    "        h1 = self.bn2(h1)\n",
    "        x = self._shortcut(x)\n",
    "        y = self.add([x, h1])\n",
    "        y = self.out_av(y)\n",
    "        return y"
   ]
  },
  {
   "cell_type": "code",
   "execution_count": 3,
   "id": "immediate-polyester",
   "metadata": {},
   "outputs": [],
   "source": [
    "class Bottleneck_block(Model):\n",
    "    def __init__(self, input_channel, output_channel):\n",
    "        super().__init__()\n",
    "        self.input_channel = input_channel\n",
    "        self.output_channel = output_channel\n",
    "        self.conv1 = Conv2D(filters=self.input_channel/4, kernel_size=(1, 1),\n",
    "                            strides=1, padding='valid', use_bias=False)\n",
    "        self.bn1 = BatchNormalization()\n",
    "        self.av1 = Activation('relu')\n",
    "        self.conv2 = Conv2D(filters=self.input_channel/4, kernel_size=(3, 3),\n",
    "                            strides=1, padding='same', use_bias=False)\n",
    "        self.bn2 = BatchNormalization()\n",
    "        self.av2 = Activation('relu')\n",
    "        self.conv3 = Conv2D(filters=self.output_channel, kernel_size=(1, 1),\n",
    "                            strides=1, padding='valid', use_bias=False)\n",
    "        self.bn3 = BatchNormalization()\n",
    "        self.add = Add()\n",
    "        self.out_av = Activation('relu')\n",
    "\n",
    "    def _shortcut(self, x):\n",
    "        if self.input_channel != self.output_channel:\n",
    "            x = Conv2D(filters=self.output_channel, kernel_size=(1, 1),\n",
    "                       strides=1, padding='same', use_bias=False)(x)\n",
    "            x = BatchNormalization()(x)\n",
    "            x = Activation('relu')(x)\n",
    "            return x\n",
    "        else:\n",
    "            return x\n",
    "\n",
    "    def call(self, x):\n",
    "        h1 = self.conv1(x)\n",
    "        h1 = self.bn1(h1)\n",
    "        h1 = self.av1(h1)\n",
    "        h2 = self.conv2(h1)\n",
    "        h2 = self.bn2(h2)\n",
    "        h2 = self.av2(h2)\n",
    "        h3 = self.conv3(h2)\n",
    "        h3 = self.bn3(h3)\n",
    "        x = self._shortcut(x)\n",
    "        y = self.add([x, h3])\n",
    "        y = self.out_av(y)\n",
    "        return y"
   ]
  },
  {
   "cell_type": "markdown",
   "id": "determined-circular",
   "metadata": {},
   "source": [
    "とりあえず愚直に層を重ねて, モデルを作る. 繰り返しなどでコードを見やすくできるところがあれば随時修正する.  \n",
    "\n",
    "論文を読み込んで, 画像サイズの変更をどうするのかを考える.  "
   ]
  },
  {
   "cell_type": "code",
   "execution_count": null,
   "id": "positive-hospital",
   "metadata": {},
   "outputs": [],
   "source": []
  }
 ],
 "metadata": {
  "kernelspec": {
   "display_name": "Python 3",
   "language": "python",
   "name": "python3"
  },
  "language_info": {
   "codemirror_mode": {
    "name": "ipython",
    "version": 3
   },
   "file_extension": ".py",
   "mimetype": "text/x-python",
   "name": "python",
   "nbconvert_exporter": "python",
   "pygments_lexer": "ipython3",
   "version": "3.8.8"
  }
 },
 "nbformat": 4,
 "nbformat_minor": 5
}
