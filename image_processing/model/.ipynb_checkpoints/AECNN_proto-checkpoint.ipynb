{
 "cells": [
  {
   "cell_type": "code",
   "execution_count": 1,
   "metadata": {},
   "outputs": [],
   "source": [
    "from typing import List\n",
    "\n",
    "import tensorflow as tf\n",
    "from tensorflow.keras.layers import Input, Add, Activation, Concatenate, Dropout, BatchNormalization, Dense, Conv2D, MaxPool2D, AveragePooling2D, GlobalMaxPooling2D\n",
    "from tensorflow.keras.models import Model"
   ]
  },
  {
   "cell_type": "code",
   "execution_count": 2,
   "metadata": {},
   "outputs": [],
   "source": [
    "class BottleneckBlock(Model):\n",
    "    \"\"\"Bottleneck Block(reference ResNet)\n",
    "    \n",
    "    arguments\n",
    "    ----------\n",
    "    in_channel(int) : number of channels of input image\n",
    "    out_channle(int) : number of channles of output image\n",
    "    \n",
    "    Typically, in_channel equal out_channel but can run if not equal\n",
    "    \"\"\"\n",
    "    def __init__(self, in_channel, out_channel):\n",
    "        \"\"\"initialize and define layers\n",
    "        \n",
    "        arguments\n",
    "        ----------\n",
    "        in_channel(int) : input image channel size\n",
    "        out_channel(int) : output image channel size\n",
    "        \n",
    "        params\n",
    "        ----------\n",
    "        hidden_channel : filter size of input and center layer\n",
    "        bn : tf.keras.layers BatchNormalization\n",
    "        av : tf.keras.layers Activation\n",
    "        in_conv : input convolution layer\n",
    "        hidden_conv : center convolution layer\n",
    "        out_conv : output convolution layer\n",
    "        shortcut : part of shortcut(input to output)\n",
    "        add : tf.keras.layters Add\n",
    "        \"\"\"\n",
    "        \n",
    "        super().__init__()\n",
    "        \n",
    "        self.hidden_channel = in_channel // 4\n",
    "        self.bn = BatchNormalization()\n",
    "        self.av = Activation(tf.nn.relu)\n",
    "        \n",
    "        self.in_conv = Conv2D(filters=self.hidden_channel, kernel_size=1, strides=1, padding='valid')\n",
    "        self.hidden_conv = Conv2D(filters=self.hidden_channel, kernel_size=3, strides=1, padding='same')\n",
    "        self.out_conv = Conv2D(filters=out_channel, kernel_size=1, strides=1, padding='valid')\n",
    "        \n",
    "        self.shortcut = self._scblock(in_channel, out_channel)\n",
    "        self.add = Add()\n",
    "        \n",
    "        \n",
    "    def _scblock(self, in_channel, out_channel):\n",
    "        \"\"\"making shortcut block\n",
    "        \n",
    "        arguments\n",
    "        ----------\n",
    "        in_channel(int) : input image channel size\n",
    "        out_channel(int) : output image channel size\n",
    "        \n",
    "        params(if in_channel not equal out_channel)\n",
    "        ----------\n",
    "        bn_sc : tf.keras.layers BatchNormalization\n",
    "        conv_sc : tf.keras layers Conv2D\n",
    "        \n",
    "        return\n",
    "        ----------\n",
    "        conv_sc : if in_channel not equal out_channel, fit channes size and return \n",
    "        x : if in_channel equal out_channel, return x not processeing\n",
    "        \"\"\"\n",
    "        \n",
    "        if in_channel != out_channel:\n",
    "            self.bn_sc = BatchNormalization()\n",
    "            self.conv_sc = Conv2D(flters=out_channel, kernel_size=1, strides=1, padding='same')\n",
    "            return self.conv_sc\n",
    "        \n",
    "        else:\n",
    "            return lambda x : x\n",
    "        \n",
    "        \n",
    "    def call(self, x):\n",
    "        \"\"\"to construct Bottleneck Block\"\"\"\n",
    "        inputs = self.in_conv(self.av(self.bn(x)))\n",
    "        hidden = self.hidden_conv(self.av(self.bn(inputs)))\n",
    "        outputs = self.out_conv(self.av(self.bn(hidden)))\n",
    "        shortcut = self.shortcut(x)\n",
    "        outputs = self.add([outputs, shortcut])\n",
    "        \n",
    "        return ouptuts"
   ]
  },
  {
   "cell_type": "code",
   "execution_count": 3,
   "metadata": {},
   "outputs": [],
   "source": [
    "class DenseBlock(Model):\n",
    "    def __init__(self, growth_rate):\n",
    "        super().__init__()\n",
    "        \n",
    "        self.bn = BatchNormalization()\n",
    "        self.av = Activate(tf.nn.relu)\n",
    "        self.in_conv = Conv2D(filters=128, kernel_size=1, strides=1, padding='same')\n",
    "        self.out_conv = Conv2D(filters=grouth_rate, kernel_size=3, strides=1, padding='same')\n",
    "        self.concat = Concatenate()\n",
    "        \n",
    "        \n",
    "    def call(self, x):\n",
    "        inputs = self.in_conv(self.av(self.bn(x)))\n",
    "        outputs = self.out_conv(self.av(self.bn(inputs)))\n",
    "        outputs = self.concat[x, outpus]\n",
    "        \n",
    "        return outputs"
   ]
  },
  {
   "cell_type": "code",
   "execution_count": 4,
   "metadata": {},
   "outputs": [
    {
     "ename": "ValueError",
     "evalue": "in converted code:\n\n    <ipython-input-2-a3d80333e1ab>:76 call  *\n        hidden = self.hidden_conv(self.av(self.bn(inputs)))\n    C:\\Users\\tukik\\AppData\\Local\\Continuum\\anaconda3\\envs\\ML\\lib\\site-packages\\tensorflow_core\\python\\keras\\engine\\base_layer.py:737 __call__\n        self.name)\n    C:\\Users\\tukik\\AppData\\Local\\Continuum\\anaconda3\\envs\\ML\\lib\\site-packages\\tensorflow_core\\python\\keras\\engine\\input_spec.py:213 assert_input_compatibility\n        ' but received input with shape ' + str(shape))\n\n    ValueError: Input 0 of layer batch_normalization_1 is incompatible with the layer: expected axis 3 of input shape to have value 16 but received input with shape [None, 28, 28, 4]\n",
     "output_type": "error",
     "traceback": [
      "\u001b[1;31m---------------------------------------------------------------------------\u001b[0m",
      "\u001b[1;31mValueError\u001b[0m                                Traceback (most recent call last)",
      "\u001b[1;32m<ipython-input-4-4197c64509b1>\u001b[0m in \u001b[0;36m<module>\u001b[1;34m\u001b[0m\n\u001b[0;32m      1\u001b[0m \u001b[0minputs\u001b[0m \u001b[1;33m=\u001b[0m \u001b[0mInput\u001b[0m\u001b[1;33m(\u001b[0m\u001b[0mshape\u001b[0m\u001b[1;33m=\u001b[0m\u001b[1;33m(\u001b[0m\u001b[1;36m28\u001b[0m\u001b[1;33m,\u001b[0m \u001b[1;36m28\u001b[0m\u001b[1;33m,\u001b[0m \u001b[1;36m3\u001b[0m\u001b[1;33m)\u001b[0m\u001b[1;33m)\u001b[0m\u001b[1;33m\u001b[0m\u001b[1;33m\u001b[0m\u001b[0m\n\u001b[0;32m      2\u001b[0m \u001b[0mhidden\u001b[0m \u001b[1;33m=\u001b[0m \u001b[0mConv2D\u001b[0m\u001b[1;33m(\u001b[0m\u001b[0mfilters\u001b[0m\u001b[1;33m=\u001b[0m\u001b[1;36m16\u001b[0m\u001b[1;33m,\u001b[0m \u001b[0mkernel_size\u001b[0m\u001b[1;33m=\u001b[0m\u001b[1;36m3\u001b[0m\u001b[1;33m,\u001b[0m \u001b[0mstrides\u001b[0m\u001b[1;33m=\u001b[0m\u001b[1;36m1\u001b[0m\u001b[1;33m,\u001b[0m \u001b[0mpadding\u001b[0m\u001b[1;33m=\u001b[0m\u001b[1;34m'same'\u001b[0m\u001b[1;33m)\u001b[0m\u001b[1;33m(\u001b[0m\u001b[0mActivation\u001b[0m\u001b[1;33m(\u001b[0m\u001b[0mtf\u001b[0m\u001b[1;33m.\u001b[0m\u001b[0mnn\u001b[0m\u001b[1;33m.\u001b[0m\u001b[0mrelu\u001b[0m\u001b[1;33m)\u001b[0m\u001b[1;33m(\u001b[0m\u001b[0mBatchNormalization\u001b[0m\u001b[1;33m(\u001b[0m\u001b[1;33m)\u001b[0m\u001b[1;33m(\u001b[0m\u001b[0minputs\u001b[0m\u001b[1;33m)\u001b[0m\u001b[1;33m)\u001b[0m\u001b[1;33m)\u001b[0m\u001b[1;33m\u001b[0m\u001b[1;33m\u001b[0m\u001b[0m\n\u001b[1;32m----> 3\u001b[1;33m \u001b[0mhidden\u001b[0m \u001b[1;33m=\u001b[0m \u001b[0mBottleneckBlock\u001b[0m\u001b[1;33m(\u001b[0m\u001b[1;36m16\u001b[0m\u001b[1;33m,\u001b[0m \u001b[1;36m16\u001b[0m\u001b[1;33m)\u001b[0m\u001b[1;33m(\u001b[0m\u001b[0mhidden\u001b[0m\u001b[1;33m)\u001b[0m\u001b[1;33m\u001b[0m\u001b[1;33m\u001b[0m\u001b[0m\n\u001b[0m",
      "\u001b[1;32m~\\AppData\\Local\\Continuum\\anaconda3\\envs\\ML\\lib\\site-packages\\tensorflow_core\\python\\keras\\engine\\base_layer.py\u001b[0m in \u001b[0;36m__call__\u001b[1;34m(self, inputs, *args, **kwargs)\u001b[0m\n\u001b[0;32m    771\u001b[0m                     not base_layer_utils.is_in_eager_or_tf_function()):\n\u001b[0;32m    772\u001b[0m                   \u001b[1;32mwith\u001b[0m \u001b[0mauto_control_deps\u001b[0m\u001b[1;33m.\u001b[0m\u001b[0mAutomaticControlDependencies\u001b[0m\u001b[1;33m(\u001b[0m\u001b[1;33m)\u001b[0m \u001b[1;32mas\u001b[0m \u001b[0macd\u001b[0m\u001b[1;33m:\u001b[0m\u001b[1;33m\u001b[0m\u001b[1;33m\u001b[0m\u001b[0m\n\u001b[1;32m--> 773\u001b[1;33m                     \u001b[0moutputs\u001b[0m \u001b[1;33m=\u001b[0m \u001b[0mcall_fn\u001b[0m\u001b[1;33m(\u001b[0m\u001b[0mcast_inputs\u001b[0m\u001b[1;33m,\u001b[0m \u001b[1;33m*\u001b[0m\u001b[0margs\u001b[0m\u001b[1;33m,\u001b[0m \u001b[1;33m**\u001b[0m\u001b[0mkwargs\u001b[0m\u001b[1;33m)\u001b[0m\u001b[1;33m\u001b[0m\u001b[1;33m\u001b[0m\u001b[0m\n\u001b[0m\u001b[0;32m    774\u001b[0m                     \u001b[1;31m# Wrap Tensors in `outputs` in `tf.identity` to avoid\u001b[0m\u001b[1;33m\u001b[0m\u001b[1;33m\u001b[0m\u001b[1;33m\u001b[0m\u001b[0m\n\u001b[0;32m    775\u001b[0m                     \u001b[1;31m# circular dependencies.\u001b[0m\u001b[1;33m\u001b[0m\u001b[1;33m\u001b[0m\u001b[1;33m\u001b[0m\u001b[0m\n",
      "\u001b[1;32m~\\AppData\\Local\\Continuum\\anaconda3\\envs\\ML\\lib\\site-packages\\tensorflow_core\\python\\autograph\\impl\\api.py\u001b[0m in \u001b[0;36mwrapper\u001b[1;34m(*args, **kwargs)\u001b[0m\n\u001b[0;32m    235\u001b[0m       \u001b[1;32mexcept\u001b[0m \u001b[0mException\u001b[0m \u001b[1;32mas\u001b[0m \u001b[0me\u001b[0m\u001b[1;33m:\u001b[0m  \u001b[1;31m# pylint:disable=broad-except\u001b[0m\u001b[1;33m\u001b[0m\u001b[1;33m\u001b[0m\u001b[0m\n\u001b[0;32m    236\u001b[0m         \u001b[1;32mif\u001b[0m \u001b[0mhasattr\u001b[0m\u001b[1;33m(\u001b[0m\u001b[0me\u001b[0m\u001b[1;33m,\u001b[0m \u001b[1;34m'ag_error_metadata'\u001b[0m\u001b[1;33m)\u001b[0m\u001b[1;33m:\u001b[0m\u001b[1;33m\u001b[0m\u001b[1;33m\u001b[0m\u001b[0m\n\u001b[1;32m--> 237\u001b[1;33m           \u001b[1;32mraise\u001b[0m \u001b[0me\u001b[0m\u001b[1;33m.\u001b[0m\u001b[0mag_error_metadata\u001b[0m\u001b[1;33m.\u001b[0m\u001b[0mto_exception\u001b[0m\u001b[1;33m(\u001b[0m\u001b[0me\u001b[0m\u001b[1;33m)\u001b[0m\u001b[1;33m\u001b[0m\u001b[1;33m\u001b[0m\u001b[0m\n\u001b[0m\u001b[0;32m    238\u001b[0m         \u001b[1;32melse\u001b[0m\u001b[1;33m:\u001b[0m\u001b[1;33m\u001b[0m\u001b[1;33m\u001b[0m\u001b[0m\n\u001b[0;32m    239\u001b[0m           \u001b[1;32mraise\u001b[0m\u001b[1;33m\u001b[0m\u001b[1;33m\u001b[0m\u001b[0m\n",
      "\u001b[1;31mValueError\u001b[0m: in converted code:\n\n    <ipython-input-2-a3d80333e1ab>:76 call  *\n        hidden = self.hidden_conv(self.av(self.bn(inputs)))\n    C:\\Users\\tukik\\AppData\\Local\\Continuum\\anaconda3\\envs\\ML\\lib\\site-packages\\tensorflow_core\\python\\keras\\engine\\base_layer.py:737 __call__\n        self.name)\n    C:\\Users\\tukik\\AppData\\Local\\Continuum\\anaconda3\\envs\\ML\\lib\\site-packages\\tensorflow_core\\python\\keras\\engine\\input_spec.py:213 assert_input_compatibility\n        ' but received input with shape ' + str(shape))\n\n    ValueError: Input 0 of layer batch_normalization_1 is incompatible with the layer: expected axis 3 of input shape to have value 16 but received input with shape [None, 28, 28, 4]\n"
     ]
    }
   ],
   "source": [
    "inputs = Input(shape=(28, 28, 3))\n",
    "hidden = Conv2D(filters=16, kernel_size=3, strides=1, padding='same')(Activation(tf.nn.relu)(BatchNormalization()(inputs)))\n",
    "hidden = BottleneckBlock(16, 16)(hidden)"
   ]
  },
  {
   "cell_type": "code",
   "execution_count": 17,
   "metadata": {},
   "outputs": [],
   "source": [
    "inputs = Input(shape=(28, 28, 3))\n",
    "x = Conv2D(filters=16, kernel_size=3, strides=1, padding='same')(Activation(tf.nn.relu)(BatchNormalization()(inputs)))\n",
    "hidden = BatchNormalization()(x)\n",
    "hidden = Activation(tf.nn.relu)(hidden)\n",
    "hidden = Conv2D(filters=4, kernel_size=1, strides=1, padding='valid')(hidden)\n",
    "hidden = BatchNormalization()(hidden)\n",
    "hidden = Activation(tf.nn.relu)(hidden)\n",
    "hidden = Conv2D(filters=4, kernel_size=3, strides=1, padding='same')(hidden)\n",
    "hidden = BatchNormalization()(hidden)\n",
    "hidden = Activation(tf.nn.relu)(hidden)\n",
    "hidden = Conv2D(filters=16, kernel_size=1, strides=1, padding='valid')(hidden)\n",
    "add = Add()([x, hidden])"
   ]
  },
  {
   "cell_type": "code",
   "execution_count": 23,
   "metadata": {},
   "outputs": [
    {
     "name": "stdout",
     "output_type": "stream",
     "text": [
      "Model: \"model_3\"\n",
      "__________________________________________________________________________________________________\n",
      "Layer (type)                    Output Shape         Param #     Connected to                     \n",
      "==================================================================================================\n",
      "input_14 (InputLayer)           [(None, 28, 28, 3)]  0                                            \n",
      "__________________________________________________________________________________________________\n",
      "batch_normalization_34 (BatchNo (None, 28, 28, 3)    12          input_14[0][0]                   \n",
      "__________________________________________________________________________________________________\n",
      "activation_30 (Activation)      (None, 28, 28, 3)    0           batch_normalization_34[0][0]     \n",
      "__________________________________________________________________________________________________\n",
      "conv2d_28 (Conv2D)              (None, 28, 28, 16)   448         activation_30[0][0]              \n",
      "__________________________________________________________________________________________________\n",
      "batch_normalization_35 (BatchNo (None, 28, 28, 16)   64          conv2d_28[0][0]                  \n",
      "__________________________________________________________________________________________________\n",
      "activation_31 (Activation)      (None, 28, 28, 16)   0           batch_normalization_35[0][0]     \n",
      "__________________________________________________________________________________________________\n",
      "conv2d_29 (Conv2D)              (None, 28, 28, 4)    68          activation_31[0][0]              \n",
      "__________________________________________________________________________________________________\n",
      "batch_normalization_36 (BatchNo (None, 28, 28, 4)    16          conv2d_29[0][0]                  \n",
      "__________________________________________________________________________________________________\n",
      "activation_32 (Activation)      (None, 28, 28, 4)    0           batch_normalization_36[0][0]     \n",
      "__________________________________________________________________________________________________\n",
      "conv2d_30 (Conv2D)              (None, 28, 28, 4)    148         activation_32[0][0]              \n",
      "__________________________________________________________________________________________________\n",
      "batch_normalization_37 (BatchNo (None, 28, 28, 4)    16          conv2d_30[0][0]                  \n",
      "__________________________________________________________________________________________________\n",
      "activation_33 (Activation)      (None, 28, 28, 4)    0           batch_normalization_37[0][0]     \n",
      "__________________________________________________________________________________________________\n",
      "conv2d_31 (Conv2D)              (None, 28, 28, 16)   80          activation_33[0][0]              \n",
      "__________________________________________________________________________________________________\n",
      "add_1 (Add)                     (None, 28, 28, 16)   0           conv2d_28[0][0]                  \n",
      "                                                                 conv2d_31[0][0]                  \n",
      "==================================================================================================\n",
      "Total params: 852\n",
      "Trainable params: 798\n",
      "Non-trainable params: 54\n",
      "__________________________________________________________________________________________________\n"
     ]
    }
   ],
   "source": [
    "model = Model(inputs, add)\n",
    "model.compile(optimizer='adam', loss='categorical_crossentropy', metrics=['accuracy'])\n",
    "model.summary()"
   ]
  },
  {
   "cell_type": "code",
   "execution_count": null,
   "metadata": {},
   "outputs": [],
   "source": []
  }
 ],
 "metadata": {
  "kernelspec": {
   "display_name": "Python 3",
   "language": "python",
   "name": "python3"
  },
  "language_info": {
   "codemirror_mode": {
    "name": "ipython",
    "version": 3
   },
   "file_extension": ".py",
   "mimetype": "text/x-python",
   "name": "python",
   "nbconvert_exporter": "python",
   "pygments_lexer": "ipython3",
   "version": "3.7.9"
  }
 },
 "nbformat": 4,
 "nbformat_minor": 4
}
