{
 "cells": [
  {
   "cell_type": "raw",
   "id": "impaired-tomato",
   "metadata": {},
   "source": [
    "# Implemene MobileNet v1\n",
    "paper: https://arxiv.org/pdf/1704.04861.pdf  "
   ]
  },
  {
   "cell_type": "code",
   "execution_count": 1,
   "id": "increasing-person",
   "metadata": {},
   "outputs": [],
   "source": [
    "from typing import List\n",
    "\n",
    "import tensorflow as tf\n",
    "from tensorflow.keras.layers import Input, Dense, Conv2D, DepthwiseConv2D, Activation, BatchNormalization\n",
    "from tensorflow.keras.models import Model\n",
    "import tensorflow.keras.optimizers as optim\n",
    "import tensorflow.keras.losses as losses"
   ]
  },
  {
   "cell_type": "code",
   "execution_count": null,
   "id": "needed-blend",
   "metadata": {},
   "outputs": [],
   "source": [
    "def ClassifierMBNetv1(output_shape: int,\n",
    "                      activation: str = 'relu',\n",
    "                      optimizer: str = 'rmsprop',\n",
    "                      alpha: float = 1.0,\n",
    "                      rho: int = 224) -> Model:\n",
    "    inputs = Input(shape=[rho, rho, 3])\n",
    "    full_conv = Conv2D(filters=32*alpha, kernel_size=(3, 3), strides=2,\n",
    "                       padding='valid')(inputs)\n",
    "    bn1 = BatchNormalization()(full_conv)\n",
    "    activation1 = Activation(activation)(bn1)\n",
    "    dw_conv1 = DepthwiseConv2D(kernel_size=(3, 3), strides=1,\n",
    "                               activation=activation)(activation1)\n",
    "    bn2 = BatchNormalization()(dw_conv1)\n",
    "    activation2 = Activation(activation)(bn2)"
   ]
  }
 ],
 "metadata": {
  "kernelspec": {
   "display_name": "Python 3",
   "language": "python",
   "name": "python3"
  },
  "language_info": {
   "codemirror_mode": {
    "name": "ipython",
    "version": 3
   },
   "file_extension": ".py",
   "mimetype": "text/x-python",
   "name": "python",
   "nbconvert_exporter": "python",
   "pygments_lexer": "ipython3",
   "version": "3.8.8"
  }
 },
 "nbformat": 4,
 "nbformat_minor": 5
}
