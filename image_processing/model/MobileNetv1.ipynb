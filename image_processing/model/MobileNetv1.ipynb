{
 "cells": [
  {
   "cell_type": "markdown",
   "id": "diverse-american",
   "metadata": {},
   "source": [
    "# Implemene MobileNet v1\n",
    "paper: https://arxiv.org/pdf/1704.04861.pdf  \n",
    "本家の実装ではtf_slim, tensorflow.contrib.slimを用いている.  "
   ]
  },
  {
   "cell_type": "code",
   "execution_count": 1,
   "id": "toxic-retreat",
   "metadata": {},
   "outputs": [],
   "source": [
    "from typing import Tuple\n",
    "\n",
    "import tensorflow as tf\n",
    "from tensorflow.keras.layers import Input, Conv2D, DepthwiseConv2D, \\\n",
    "    AveragePooling2D, Activation, BatchNormalization, ZeroPadding2D, Reshape\n",
    "from tensorflow.keras.models import Model\n",
    "import tensorflow.keras.optimizers as optim\n",
    "import tensorflow.keras.losses as losses"
   ]
  },
  {
   "cell_type": "code",
   "execution_count": 2,
   "id": "accurate-ottawa",
   "metadata": {},
   "outputs": [],
   "source": [
    "class dw_pw_conv(Model):\n",
    "    def __init__(self, pw_filters: int,\n",
    "                 activation: str = 'relu',\n",
    "                 dw_kernel: Tuple[int] = (1, 1),\n",
    "                 pw_kernel: Tuple[int] = (3, 3),\n",
    "                 dw_strides: int = 2,\n",
    "                 pw_strides: int = 1,\n",
    "                 dw_padding: str = 'same',\n",
    "                 pw_padding: str = 'same',\n",
    "                 alpha: float = 1.0):\n",
    "        super().__init__()\n",
    "        self.dw_conv = DepthwiseConv2D(kernel_size=dw_kernel,\n",
    "                                       strides=dw_strides,\n",
    "                                       padding=dw_padding)\n",
    "        self.dw_bn = BatchNormalization()\n",
    "        self.dw_activation = Activation(activation)\n",
    "        self.pw_conv = Conv2D(filters=pw_filters*alpha, kernel_size=pw_kernel,\n",
    "                              strides=pw_strides, padding=pw_padding)\n",
    "        self.pw_bn = BatchNormalization()\n",
    "        self.pw_activation = Activation(activation)\n",
    "\n",
    "    def call(self, x):\n",
    "        h = self.dw_activation(self.dw_bn(self.dw_conv(x)))\n",
    "        y = self.pw_activation(self.pw_bn(self.pw_conv(h)))\n",
    "        return y"
   ]
  },
  {
   "cell_type": "code",
   "execution_count": 3,
   "id": "elementary-stupid",
   "metadata": {},
   "outputs": [],
   "source": [
    "class MBNetv1(Model):\n",
    "    def __init__(self, channels: int,\n",
    "                 output_shape: int,\n",
    "                 activation: str = 'relu',\n",
    "                 alpha: float = 1.0,\n",
    "                 rho: int = 224):\n",
    "        super().__init__()\n",
    "        self.in_shape = [rho, rho, channels]\n",
    "        self.out_shape = output_shape\n",
    "        self.activation = activation\n",
    "        self.alpha = alpha\n",
    "        self.rho = rho\n",
    "        self.model_layers = [Input(shape=self.in_shape),\n",
    "                             Conv2D(filters=32, kernel_size=(3, 3),\n",
    "                                    strides=2, padding='valid'),\n",
    "                             BatchNormalization(),\n",
    "                             Activation(self.activation),\n",
    "                             dw_pw_conv(64, dw_strides=1),\n",
    "                             dw_pw_conv(128, dw_strides=2),\n",
    "                             dw_pw_conv(128, dw_strides=1),\n",
    "                             dw_pw_conv(256, dw_strides=2),\n",
    "                             dw_pw_conv(256, dw_strides=1),\n",
    "                             dw_pw_conv(512, dw_strides=2),\n",
    "                             dw_pw_conv(512, dw_strides=1),\n",
    "                             dw_pw_conv(512, dw_strides=1),\n",
    "                             dw_pw_conv(512, dw_strides=1),\n",
    "                             dw_pw_conv(512, dw_strides=1),\n",
    "                             dw_pw_conv(512, dw_strides=1),\n",
    "                             dw_pw_conv(1024, dw_strides=2),\n",
    "                             ZeroPadding2D(padding=(3, 3)),\n",
    "                             dw_pw_conv(1024, dw_strides=2),\n",
    "                             AveragePooling2D(pool_size=(7, 7)),\n",
    "                             Conv2D(filters=1000, kernel_size=(1, 1),\n",
    "                                    strides=1, padding='same')]\n",
    "\n",
    "    def __call__(self, x):\n",
    "        for layer in self.model_layers:\n",
    "            x = layer(x)\n",
    "        out = Activation('softmax')\n",
    "        out = Reshape([self.out_shape])\n",
    "        return out"
   ]
  },
  {
   "cell_type": "code",
   "execution_count": 4,
   "id": "olive-orleans",
   "metadata": {},
   "outputs": [],
   "source": [
    "test = False\n",
    "\n",
    "if test:\n",
    "    layers = [BatchNormalization(),\n",
    "              Activation('relu'),\n",
    "              dw_pw_conv(64, dw_strides=1),\n",
    "              dw_pw_conv(128, dw_strides=2),\n",
    "              dw_pw_conv(128, dw_strides=1),\n",
    "              dw_pw_conv(256, dw_strides=2),\n",
    "              dw_pw_conv(256, dw_strides=1),\n",
    "              dw_pw_conv(512, dw_strides=2),\n",
    "              dw_pw_conv(512, dw_strides=1),\n",
    "              dw_pw_conv(512, dw_strides=1),\n",
    "              dw_pw_conv(512, dw_strides=1),\n",
    "              dw_pw_conv(512, dw_strides=1),\n",
    "              dw_pw_conv(512, dw_strides=1),\n",
    "              dw_pw_conv(1024, dw_strides=2),\n",
    "              ZeroPadding2D(padding=(3, 3)),\n",
    "              dw_pw_conv(1024, dw_strides=2),\n",
    "              AveragePooling2D(pool_size=(7, 7), strides=1),\n",
    "              Conv2D(filters=1000, kernel_size=(1, 1),\n",
    "                     strides=1, padding='same')]\n",
    "\n",
    "    inputs = Input(shape=(224, 224, 3))\n",
    "    x = Conv2D(filters=32, kernel_size=(3, 3),\n",
    "               strides=2, padding='same')(inputs)\n",
    "    for layer in layers:\n",
    "        x = layer(x)\n",
    "    out = Activation('softmax')\n",
    "    out = Reshape([10])(out)\n",
    "    model = Model(inputs=[inputs], outputs=[out])\n",
    "    model.compile(loss='categorical_crossentropy',\n",
    "                  optimizer='rmsprop',\n",
    "                  metrics=['accuracy'])"
   ]
  },
  {
   "cell_type": "code",
   "execution_count": null,
   "id": "headed-costa",
   "metadata": {},
   "outputs": [],
   "source": []
  }
 ],
 "metadata": {
  "kernelspec": {
   "display_name": "Python 3",
   "language": "python",
   "name": "python3"
  },
  "language_info": {
   "codemirror_mode": {
    "name": "ipython",
    "version": 3
   },
   "file_extension": ".py",
   "mimetype": "text/x-python",
   "name": "python",
   "nbconvert_exporter": "python",
   "pygments_lexer": "ipython3",
   "version": "3.8.8"
  },
  "widgets": {
   "application/vnd.jupyter.widget-state+json": {
    "state": {},
    "version_major": 2,
    "version_minor": 0
   }
  }
 },
 "nbformat": 4,
 "nbformat_minor": 5
}
