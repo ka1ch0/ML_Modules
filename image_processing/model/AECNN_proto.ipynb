{
 "cells": [
  {
   "cell_type": "code",
   "execution_count": 1,
   "metadata": {},
   "outputs": [],
   "source": [
    "import tensorflow as tf\n",
    "from tensorflow.keras.layers import Input, Add, Dropout, BatchNormalization, Dense, Conv2D, MaxPooling2D, AveragePooling2D, Activation\n",
    "from tensorflow.keras.models import Model"
   ]
  },
  {
   "cell_type": "code",
   "execution_count": 2,
   "metadata": {},
   "outputs": [],
   "source": [
    "class BottleneckBlock(Model):\n",
    "    \"\"\"Bottleneck Block(reference ResNet)\n",
    "    \n",
    "    arguments\n",
    "    ----------\n",
    "    in_channel(int) : number of channels of input image\n",
    "    out_channle(int) : number of channles of output image\n",
    "    \n",
    "    Typically, in_channel equal out_channel but can run if not equal\n",
    "    \"\"\"\n",
    "    def __init__(self, in_channel, out_channel):\n",
    "        \"\"\"\n",
    "        params\n",
    "        ----------\n",
    "        hidden_channel : \n",
    "        \"\"\"\n",
    "        super().__init__()\n",
    "        \n",
    "        self.hidden_channel = in_channel // 4\n",
    "        self.bn = BatchNormalization()\n",
    "        self.av = Activation(tf.nn.relu)\n",
    "        \n",
    "        self.in_conv = Conv2D(filters=self.hidden_channel, kernel_size=1, strides=1, padding='same')\n",
    "        self.hidden_conv = Conv2D(filters=self.hidden_channel, kernel_size=3, strides=1, padding='same')\n",
    "        self.out_conv = Conv2D(filters=out_channel, kernel_size=1, strides=1, padding='same')\n",
    "        \n",
    "        self.shortcut = self._scblock(in_channel, out_channel)\n",
    "        self.add = Add()\n",
    "        \n",
    "        \n",
    "    def _scblock(self, in_channel, out_channel):\n",
    "        if in_channle != out_channel:\n",
    "            self.bn_sc = BatchNormalization()\n",
    "            self.conv_sc = Conv2D(flters=out_channel, kernel_size=1, strides=1, padding='same')\n",
    "            return self.conv_sc\n",
    "        \n",
    "        else:\n",
    "            return lambda x : x\n",
    "        \n",
    "        \n",
    "    def call(self, x):\n",
    "        inputs = self.in_conv(self.av(self.bn(x)))\n",
    "        hidden = self.hidden_conv(self.av(self.bn(inputs)))\n",
    "        outputs = self.out_conv(self.av(self.bn(hidden)))\n",
    "        shortcut = self.shortcut(x)\n",
    "        outputs = self.add()([outputs, shortcut])\n",
    "        \n",
    "        return ouptuts"
   ]
  },
  {
   "cell_type": "code",
   "execution_count": null,
   "metadata": {},
   "outputs": [],
   "source": [
    "class DenseBlock(Model):\n",
    "    def __init__(self, in_channel, out_channel, growth_rate):\n",
    "        super().__init__()"
   ]
  }
 ],
 "metadata": {
  "kernelspec": {
   "display_name": "Python 3",
   "language": "python",
   "name": "python3"
  },
  "language_info": {
   "codemirror_mode": {
    "name": "ipython",
    "version": 3
   },
   "file_extension": ".py",
   "mimetype": "text/x-python",
   "name": "python",
   "nbconvert_exporter": "python",
   "pygments_lexer": "ipython3",
   "version": "3.7.9"
  }
 },
 "nbformat": 4,
 "nbformat_minor": 4
}
