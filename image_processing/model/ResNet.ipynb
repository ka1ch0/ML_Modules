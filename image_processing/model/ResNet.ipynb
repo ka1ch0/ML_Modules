{
 "cells": [
  {
   "cell_type": "markdown",
   "id": "7c0f5905-a9f9-44f6-9452-c88edbabda82",
   "metadata": {},
   "source": [
    "# ResNet(Deep Residulal Learning for Image Recognition)  \n",
    "paper URL: https://arxiv.org/abs/1512.03385  "
   ]
  },
  {
   "cell_type": "code",
   "execution_count": 1,
   "id": "b2a70781-9d17-42b5-9bbc-acd319af42bb",
   "metadata": {},
   "outputs": [
    {
     "name": "stdout",
     "output_type": "stream",
     "text": [
      "INFO:tensorflow:Enabling eager execution\n",
      "INFO:tensorflow:Enabling v2 tensorshape\n",
      "INFO:tensorflow:Enabling resource variables\n",
      "INFO:tensorflow:Enabling tensor equality\n",
      "INFO:tensorflow:Enabling control flow v2\n"
     ]
    }
   ],
   "source": [
    "import typing \n",
    "\n",
    "import tensorflow as tf\n",
    "from tensorflow.keras.layers import Input, Dense, BatchNormalization,\\\n",
    "    Activation, Conv2D, MaxPooling2D, Add\n",
    "from tensorflow.keras.models import Model"
   ]
  },
  {
   "cell_type": "code",
   "execution_count": 2,
   "id": "84986e1f-e361-42f2-9dfb-3e5f7da8035e",
   "metadata": {},
   "outputs": [],
   "source": [
    "class Redisual_block(Model):\n",
    "    def __init__(self, input_channel, output_channel):\n",
    "        super().__init__()\n",
    "        self.input_channel= input_channel\n",
    "        self.output_channel = output_channel\n",
    "        self.conv1 = Conv2D(filters=self.input_channel, kernel_size=(3, 3),\n",
    "                            strides=1, padding='valid')\n",
    "        self.bn1 = BatchNormalization()\n",
    "        self.av1 = Activation('relu')\n",
    "        self.conv2 = Conv2D(filters=self.output_channel, kernel_size=(3, 3),\n",
    "                            strides=1, padding='valid')\n",
    "        self.bn2 = BatchNormalization()\n",
    "        self.add_layer = Add()\n",
    "        self.out_av = Activation('relu')\n",
    "\n",
    "    def _shortcut(self, x):\n",
    "        if self.input_channel != self.output_channel:\n",
    "            x = Conv2D(filters=self.output_channel, kernel_size=(3, 3),\n",
    "                       strides=1, padding='valid')(x)\n",
    "            x = BatchNormalization()(x)\n",
    "            x = Activation('relu')(x)\n",
    "            return x\n",
    "        else:\n",
    "            return x\n",
    "\n",
    "    def call(self, x):\n",
    "        h1 = self.conv1(x)\n",
    "        h1 = self.bn1(h1)\n",
    "        h1 = self.av1(h1)\n",
    "        h1 = self.conv2(h1)\n",
    "        h1 = self.bn2(h1)\n",
    "        h2 = _shortcut(x)\n",
    "        y = self.Add([h1, h2])\n",
    "        y = self.out_av2(y)\n",
    "        return y"
   ]
  },
  {
   "cell_type": "code",
   "execution_count": null,
   "id": "85877c5f-d463-4dcc-acd2-a0a9050e3c2c",
   "metadata": {},
   "outputs": [],
   "source": [
    "class Bottleneck_block(Model):\n",
    "    def __init__(self, input_channel, output_channel):\n",
    "        super().__init__()"
   ]
  }
 ],
 "metadata": {
  "kernelspec": {
   "display_name": "Python 3",
   "language": "python",
   "name": "python3"
  },
  "language_info": {
   "codemirror_mode": {
    "name": "ipython",
    "version": 3
   },
   "file_extension": ".py",
   "mimetype": "text/x-python",
   "name": "python",
   "nbconvert_exporter": "python",
   "pygments_lexer": "ipython3",
   "version": "3.9.5"
  }
 },
 "nbformat": 4,
 "nbformat_minor": 5
}
