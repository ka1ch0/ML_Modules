{
 "cells": [
  {
   "cell_type": "code",
   "execution_count": 1,
   "id": "20c5f0c6-9a78-439a-846e-272aabe52e4c",
   "metadata": {},
   "outputs": [],
   "source": [
    "from typing import Optional, List, Union\n",
    "import math\n",
    "\n",
    "import numpy as np\n",
    "import pandas as pd\n",
    "import matplotlib.pyplot as plt\n",
    "import seaborn as sns\n",
    "import plotly.express as px\n",
    "import plotly.graph_objects as go\n",
    "\n",
    "sns.set()\n",
    "%matplotlib inline"
   ]
  },
  {
   "cell_type": "code",
   "execution_count": 2,
   "id": "efb195a5-943d-4589-80b6-a3445d70033f",
   "metadata": {},
   "outputs": [],
   "source": [
    "# calculate skewness\n",
    "def calc_skew(data: Union[np.ndarray, pd.Series]) -> (float, str):\n",
    "    if data.dtype not in [int, float]:\n",
    "        raise Exception(\"Data variable type must be numeric type as int, float etc.\")\n",
    "\n",
    "    if type(data) == pd.Series:\n",
    "        data = data.values\n",
    "    elif type(data) not in [np.ndarray, pd.Series]:\n",
    "        raise Exception(\"Data type must be np.ndarray or pd.Series.\")\n",
    "\n",
    "    size = len(data)\n",
    "    std = data.std()\n",
    "    residual = data - data.mean()\n",
    "    value = (size) / ((size-1)*(size-2)) * ((residual / std) ** 3).sum()\n",
    "\n",
    "    if value > 0:\n",
    "        skew = \"left\"\n",
    "    elif value < 0:\n",
    "        skew = \"right\"\n",
    "    else:\n",
    "        skew = \"center\"\n",
    "\n",
    "    return value, skew"
   ]
  },
  {
   "cell_type": "code",
   "execution_count": 3,
   "id": "5a776b4d-498b-43b0-a791-254f066450f7",
   "metadata": {},
   "outputs": [],
   "source": [
    "# calculate kurtosis\n",
    "def calc_kurto(data: Union[np.ndarray, pd.Series]) -> float:\n",
    "    if data.dtype not in [int, float]:\n",
    "        raise Exception(\"Data variable type must be numeric type as int, float etc.\")\n",
    "\n",
    "    if type(data) == pd.Series:\n",
    "        data = data.values\n",
    "    elif type(data) not in [np.ndarray, pd.Series]:\n",
    "        raise Exception(\"Data type must be np.ndarray or pd.Series.\")\n",
    "\n",
    "    size = len(data)\n",
    "    std = data.std()\n",
    "    residual = data - data.mean()\n",
    "\n",
    "    first = (size * (size + 1)) / ((size - 1) * (size - 2) * (size - 3))\n",
    "    second = ((residual / std) ** 4).sum()\n",
    "    third = (3 * (size - 1) ** 2) / ((size - 2) * (size - 3))\n",
    "\n",
    "    return first * second - third"
   ]
  },
  {
   "cell_type": "code",
   "execution_count": 4,
   "id": "a6da9bf6-69e3-4d35-b102-fef7515fe159",
   "metadata": {},
   "outputs": [],
   "source": [
    "def all_stats(data: Union[np.ndarray, pd.Series],\n",
    "              is_return: bool = False) -> Optional[List]:\n",
    "    if data.dtype not in [int, float]:\n",
    "        raise Exception(\"Data variable type must be numeric type as int, float etc.\")\n",
    "\n",
    "    if type(data) == pd.Series:\n",
    "        data = data.values\n",
    "    elif type(data) not in [np.ndarray, pd.Series]:\n",
    "        raise Exception(\"Data type must be np.ndarray or pd.Series.\")\n",
    "\n",
    "    mean = data.mean()\n",
    "    std = data.std()\n",
    "    skew_value, skewness = calc_skew(data)\n",
    "    kurtosis = calc_kurto(data)\n",
    "\n",
    "    print(f\"data mean: {mean}\")\n",
    "    print(f\"data std: {std}\")\n",
    "    print(f\"data skewness: {skew_value}, {skewness}\")\n",
    "    print(f\"data kurtosis: {kurtosis}\")\n",
    "\n",
    "    if is_return:\n",
    "        return (mean, std, skew_value, skewness, kurtosis)"
   ]
  },
  {
   "cell_type": "code",
   "execution_count": 5,
   "id": "b7b9ba20-1ea8-4e01-bf9c-dc13fb4f7c35",
   "metadata": {},
   "outputs": [],
   "source": [
    "def dist_categorical(data: Union[pd.DataFrame, pd.Series],\n",
    "                     feature_name: str) -> None:\n",
    "    if type(data) not in [pd.DataFrame, pd.Series]:\n",
    "        raise Exception(\"Data type must be pd.DataFrame or pd.Series\")\n",
    "\n",
    "    f, ax = plt.subplots(1, 2, figsize=(18, 8))\n",
    "    data[feature_name].value_counts().plot.pie(autopct='%1.1f%%',\n",
    "                                               ax=ax[0], shadow=True)\n",
    "    ax[0].set_title(feature_name)\n",
    "    sns.countplot(feature_name, data=data, ax=ax[1])\n",
    "    ax[1].set_title(feature_name)\n",
    "    plt.show()"
   ]
  },
  {
   "cell_type": "code",
   "execution_count": 6,
   "id": "d250b9c6-f715-43e0-9439-f4805eb6f041",
   "metadata": {},
   "outputs": [],
   "source": [
    "def sturges_rule(n: int) -> int:\n",
    "    return math.ceil(1 + np.log2(n))"
   ]
  },
  {
   "cell_type": "code",
   "execution_count": 16,
   "id": "5f205f0f-a4e7-47ee-b847-e1b746681c60",
   "metadata": {},
   "outputs": [],
   "source": [
    "def dist_numerical(data: Union[pd.DataFrame, pd.Series],\n",
    "                   feature_name: str) -> None:\n",
    "    if type(data) not in [pd.DataFrame, pd.Series]:\n",
    "        raise Exception(\"Data type must be pd.DataFrame or pd.Series\")\n",
    "\n",
    "    bins = sturges_rule(len(data))\n",
    "    f, ax = plt.subplots(1, 2, figsize=(18, 8))\n",
    "\n",
    "    if type(data) == pd.DataFrame:\n",
    "        ax[0].hist(data[feature_name], bins=bins)\n",
    "        ax[1].boxplot(data[feature_name], labels=[feature_name])\n",
    "    elif type(data) == pd.Series:\n",
    "        ax[0].hist(data, bins=bins)\n",
    "        ax[1].boxplot(data, labels=[feature_name])\n",
    "    plt.show()"
   ]
  },
  {
   "cell_type": "code",
   "execution_count": null,
   "id": "2bf488f0-3e2c-40c5-bc74-d71501910520",
   "metadata": {},
   "outputs": [],
   "source": []
  }
 ],
 "metadata": {
  "kernelspec": {
   "display_name": "Python 3",
   "language": "python",
   "name": "python3"
  },
  "language_info": {
   "codemirror_mode": {
    "name": "ipython",
    "version": 3
   },
   "file_extension": ".py",
   "mimetype": "text/x-python",
   "name": "python",
   "nbconvert_exporter": "python",
   "pygments_lexer": "ipython3",
   "version": "3.9.5"
  }
 },
 "nbformat": 4,
 "nbformat_minor": 5
}
