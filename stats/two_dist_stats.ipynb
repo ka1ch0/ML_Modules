{
 "cells": [
  {
   "cell_type": "code",
   "execution_count": 1,
   "id": "e4e9f4d1-2328-4dcc-bdb0-b372c4f0ebc4",
   "metadata": {},
   "outputs": [],
   "source": [
    "import math\n",
    "from typing import Union\n",
    "\n",
    "import numpy as np\n",
    "import pandas as pd\n",
    "from scipy import stats\n",
    "import matplotlib.pyplot as plt"
   ]
  },
  {
   "cell_type": "code",
   "execution_count": 2,
   "id": "6f0896e0-63fa-4ef0-806a-54fe4f1a7c79",
   "metadata": {},
   "outputs": [],
   "source": [
    "def significance_test(data1: Union[pd.Series, np.ndarray],\n",
    "                      data2: Union[pd.Series, np.ndarray],\n",
    "                      threshold: float = 0.05) -> (str, float):\n",
    "    \"\"\"\n",
    "    2つの分布の有意性を検定する．\n",
    "    シャピロ・ウィルク検定を用いて正規性があるかどうかを判定 -> 正規性があればバートレット検定を用いて等分散性を判定\n",
    "    -> 等分散性が見られればスチューデントのt検定，見られなければウェルチのt検定を用いる -> 正規性がなければマン・ホイットニーのU検定を用いる\n",
    "\n",
    "    Parameters\n",
    "    ----------\n",
    "    data1 : pd.DataFrame\n",
    "        比較したいデータのうちの1つ．\n",
    "    data2 : pd.DataFrame\n",
    "        比較したいデータのもう1つ．\n",
    "    threshold : float\n",
    "        検定を行う際の信頼区間に対する閾値．\n",
    "\n",
    "    Returns\n",
    "    -------\n",
    "    method : str\n",
    "        使用した検定手法．\n",
    "    value : float\n",
    "        検定結果のp値．\n",
    "    \"\"\"\n",
    "    # Shapiro-Wilk testによって正規性を検定する．\n",
    "    # p値が閾値よりも小さければ正規性がないことを示す．\n",
    "    is_normality = False\n",
    "\n",
    "    _, shapiro1 = stats.shapiro(data1)\n",
    "    _, shapiro2 = stats.shapiro(data2)\n",
    "\n",
    "    if shapiro1 < threshold:\n",
    "        print(\"data1 is'nt normality.\")\n",
    "    else:\n",
    "        print(\"data1 is normality.\")\n",
    "\n",
    "    if shapiro2 < threshold:\n",
    "        print(\"data2 isn't normality.\")\n",
    "    else:\n",
    "        print(\"data2 is normality.\")\n",
    "\n",
    "    if (shapiro1 > threshold) & (shapiro2 > threshold):\n",
    "        is_normality = True\n",
    "\n",
    "    # バートレット検定によって等分散性を検定する．\n",
    "    if is_normality:\n",
    "        _, f_value = stats.bartlett(data1, data2)\n",
    "        # 等分散性が見られればスチューデントのt検定を用いる\n",
    "        # 見られなければウェルチのt検定を用いる．\n",
    "        # p値が閾値よりも小さければ等分散性がないことを示す．\n",
    "        if f_value < threshold:\n",
    "            print(\"There isn't homoscedasticity between data1 and data2\")\n",
    "            _, t_value = stats.ttest_ind(data1, data2, equal_var=False)  # Welchのt検定\n",
    "            #  p値が閾値よりも小さければ有意差があることを示す．\n",
    "            if t_value < threshold:\n",
    "                print(f\"There is significance between data1 and data2(threshold={threshold})\")\n",
    "            else:\n",
    "                print(f\"There isn't significance between data1 and data2(threshold={threshold})\")\n",
    "            return ('Welch', t_value)\n",
    "\n",
    "        else:\n",
    "            print(\"There is homoscedasticity between data1 and data2\")\n",
    "            _, t_value = stats.ttest_ind(data1, data2)  # Studentのt検定\n",
    "            #  p値が閾値よりも小さければ有意差があることを示す．\n",
    "            if t_value < threshold:\n",
    "                print(f\"There is significance between data1 and data2(threshold={threshold})\")\n",
    "            else:\n",
    "                print(f\"There isn't significance between data1 and data2(threshold={threshold})\")\n",
    "            return ('Student', t_value)\n",
    "\n",
    "    # 正規性が見られなければMann-WhitneyのU検定を用いる．\n",
    "    else:\n",
    "        _, u_value = stats.mannwhitneyu(data1, data2, alternative='two-sided')\n",
    "        # p値が閾値よりも小さければ優位性があることを示す\n",
    "        if u_value < threshold:\n",
    "            print(f\"There is significance between data1 and data2(threshold={threshold})\")\n",
    "        else:\n",
    "            print(f\"There isn't significance between data1 and data2(threshold={threshold})\")\n",
    "        return ('Mann-Whitney', u_value)"
   ]
  },
  {
   "cell_type": "code",
   "execution_count": 3,
   "id": "79b3e1cf-679c-4b0c-813b-f787c63f120f",
   "metadata": {},
   "outputs": [],
   "source": [
    "def sturges_rule(n: int) -> int:\n",
    "    return math.ceil(1 + np.log2(n))"
   ]
  },
  {
   "cell_type": "code",
   "execution_count": 4,
   "id": "711efc37-e072-446a-93dc-9f254fa4508f",
   "metadata": {},
   "outputs": [],
   "source": [
    "def plot_two_dist(data1: Union[pd.Series, np.ndarray],\n",
    "                  data2: Union[pd.Series, np.ndarray]) -> None:\n",
    "    bins = sturges_rule(len(data1))\n",
    "    plt.figure(figsize=(12, 8))\n",
    "    plt.hist(data1, bins=bins, color='red', alpha=0.5, label=\"data1\")\n",
    "    plt.hist(data2, bins=bins, color='green', alpha=0.5, label=\"data2\")\n",
    "    plt.tight_layout()\n",
    "    plt.legend()\n",
    "    plt.show()"
   ]
  },
  {
   "cell_type": "code",
   "execution_count": 5,
   "id": "98f74a0b-a04a-4152-8342-07e638fe277c",
   "metadata": {},
   "outputs": [
    {
     "name": "stdout",
     "output_type": "stream",
     "text": [
      "data1 is normality.\n",
      "data2 is't normality.\n",
      "There isn't significance between data1 and data2(threshold=0.05)\n"
     ]
    },
    {
     "data": {
      "text/plain": [
       "('Mann-Whitney', 0.19473468458548393)"
      ]
     },
     "execution_count": 5,
     "metadata": {},
     "output_type": "execute_result"
    }
   ],
   "source": [
    "data1 = np.random.normal(0, 1, 1000)\n",
    "data2 = np.random.normal(0, 2, 1000)\n",
    "\n",
    "significance_test(data1, data2)"
   ]
  },
  {
   "cell_type": "code",
   "execution_count": 6,
   "id": "d210499d-6e2b-4218-abe4-8b305061b8a5",
   "metadata": {},
   "outputs": [
    {
     "data": {
      "image/png": "[encoded data removed]",
      "text/plain": [
       "<Figure size 864x576 with 1 Axes>"
      ]
     },
     "metadata": {
      "needs_background": "light"
     },
     "output_type": "display_data"
    }
   ],
   "source": [
    "plot_two_dist(data1, data2)"
   ]
  },
  {
   "cell_type": "code",
   "execution_count": null,
   "id": "7739038c-0568-4f0c-9b81-d17f489cf3f9",
   "metadata": {},
   "outputs": [],
   "source": []
  }
 ],
 "metadata": {
  "kernelspec": {
   "display_name": "Python 3",
   "language": "python",
   "name": "python3"
  },
  "language_info": {
   "codemirror_mode": {
    "name": "ipython",
    "version": 3
   },
   "file_extension": ".py",
   "mimetype": "text/x-python",
   "name": "python",
   "nbconvert_exporter": "python",
   "pygments_lexer": "ipython3",
   "version": "3.9.5"
  }
 },
 "nbformat": 4,
 "nbformat_minor": 5
}
