{
 "cells": [
  {
   "cell_type": "code",
   "execution_count": 1,
   "id": "e6217f95-d03e-427b-9670-727cf32f6f56",
   "metadata": {
    "tags": []
   },
   "outputs": [
    {
     "name": "stdout",
     "output_type": "stream",
     "text": [
      "INFO:tensorflow:Enabling eager execution\n",
      "INFO:tensorflow:Enabling v2 tensorshape\n",
      "INFO:tensorflow:Enabling resource variables\n",
      "INFO:tensorflow:Enabling tensor equality\n",
      "INFO:tensorflow:Enabling control flow v2\n"
     ]
    }
   ],
   "source": [
    "import os\n",
    "from typing import Union, List, Dict, Optional\n",
    "import pickle\n",
    "\n",
    "from tqdm.notebook import tqdm\n",
    "import numpy as np\n",
    "import pandas as pd\n",
    "from sklearn.model_selection import KFold\n",
    "from sklearn.preprocessing import StandardScaler\n",
    "from sklearn.linear_model import Ridge, Lasso, LinearRegression\n",
    "from sklearn.neighbors import KNeighborsRegressor\n",
    "import tensorflow as tf\n",
    "import tensorflow.keras.layers as layers\n",
    "import tensorflow.keras.losses as losses\n",
    "import tensorflow.keras.optimizers as optim\n",
    "import tensorflow.keras.models as models\n",
    "from tensorflow.keras.callbacks import EarlyStopping"
   ]
  },
  {
   "cell_type": "code",
   "execution_count": 2,
   "id": "ecd610f0-afd2-4993-839e-073d4180d18b",
   "metadata": {},
   "outputs": [],
   "source": [
    "class Stacking:\n",
    "    def __init__(self, base_models: Dict, meta_model: \"meta model of sklearn API or Tensorflow etc.\",\n",
    "                 task: str, n_classies: Optional[int] = None):\n",
    "        \"\"\"\n",
    "        Constructor\n",
    "\n",
    "        Parameters\n",
    "        -----------\n",
    "        base_models : Dict of Sklearn APIs or Tensroflow models.\n",
    "            Base models of stacking.\n",
    "        meta_model : Sklearn API or Tensorflow model\n",
    "            Meta model of stacking.\n",
    "        task : str\n",
    "            Kind of task you wanto to solve. 'regression' or 'classification'.\n",
    "        n_classies : int\n",
    "            Number of class. You must set this if task is 'classification'.\n",
    "\n",
    "        Returns\n",
    "        -----------\n",
    "        None\n",
    "        \"\"\"\n",
    "\n",
    "        self.meta_model = meta_model\n",
    "        self.base_models = dict()\n",
    "        self.n_base = 0\n",
    "        self.task = task\n",
    "\n",
    "        if self.task not in [\"regression\", \"classification\"]:\n",
    "            raise Exception(\"Please set task is regression or classification.\")\n",
    "\n",
    "        self.n_classies = n_classies\n",
    "\n",
    "        if self.n_classies is None and self.task == \"classification\":\n",
    "            raise Exception(\"If you set task is classification, please set n_classies(int).\")\n",
    "\n",
    "        for base_model in base_models:\n",
    "            self.n_base += 1\n",
    "            self.base_models[f\"models_{self.n_base}\"] = base_model\n",
    "\n",
    "    def train(self, X: np.ndarray, y: np.ndarray, cv: int = 8,\n",
    "              batch_size: int = 16, epochs: int = 100):\n",
    "        \"\"\"\n",
    "        Training base models and meta model. Trained models is saved as class variables.\n",
    "\n",
    "        Parameters\n",
    "        -----------\n",
    "        X : np.ndarray\n",
    "            X of training set.\n",
    "        y : np.ndarray\n",
    "            Target of training set.\n",
    "        cv : int\n",
    "            Number of fold for cross validation.\n",
    "        batch_size : int\n",
    "            Batch size for training neural network. You must set this if you use newral network.\n",
    "        epochs : int\n",
    "            Number of epochs for training neural network. You must set this if you use newral network.\n",
    "\n",
    "        Returns\n",
    "        ----------\n",
    "        None\n",
    "        \"\"\"\n",
    "\n",
    "        features = {}\n",
    "        model_no = 0\n",
    "        features[f\"feature_{model_no}\"] = X  # dict for saving intermidiate features.\n",
    "\n",
    "        # training base models\n",
    "        print(\"Start training base models\")\n",
    "        for models in tqdm(self.base_models.values()):\n",
    "            model_no += 1\n",
    "            if self.task == \"regression\":\n",
    "                features[f\"feature_{model_no}\"] = np.empty((X.shape[1],\n",
    "                                                            len(models)))\n",
    "            else:\n",
    "                features[f\"feature_{model_no}\"] = np.empty((X.shape[1],\n",
    "                                                            len(models)*self.n_classies))\n",
    "            kf = KFold(n_splits=cv, random_state=6174, shuffle=True)\n",
    "\n",
    "            for train_idx, val_idx in kf.split(features[f\"feature_{model_no-1}\"]):\n",
    "                train_X, val_X = \\\n",
    "                    features[f\"feature_{model_no-1}\"][train_idx], features[f\"feature_{model_no-1}\"][val_idx]\n",
    "                train_y, val_y = y[train_idx], y[val_idx]\n",
    "\n",
    "                if model_no < 1:\n",
    "                    sc = StandardScaler()\n",
    "                    train_X = sc.fit_transoform(train_X)\n",
    "                    val_X = sc.transform(val_X)\n",
    "\n",
    "                for i, model in enumerate(models):\n",
    "                    if \"sklearn\" in str(type(model)):\n",
    "                        model.fit(train_X, train_y)\n",
    "                        if self.task == \"regression\":\n",
    "                            pred = model.predict(val_X)\n",
    "                            features[f\"feature_{model_no}\"][val_idx, i] = pred.reshape(len(val_idx))\n",
    "                        else:\n",
    "                            pred = model.predict_proba(val_X)\n",
    "                            features[f\"feature_{model_no}\"][val_idx, i:i+self.n_classies] = pred\n",
    "                    elif \"tensorflow\" in str(type(model)):\n",
    "                        ES = EarlyStopping(monitor=\"val_loss\", patience=5)\n",
    "                        model.fit(x=train_X, y=train_y, epochs=epochs,\n",
    "                                  batch_size=batch_size, validation_data=(val_X, val_y),\n",
    "                                  callbacks=[ES])\n",
    "                        if self.task == \"regression\":\n",
    "                            pred = model.predict(val_X)\n",
    "                            features[f\"feature_{model_no}\"][val_idx, i] = pred.reshape(len(val_idx))\n",
    "                        else:\n",
    "                            pred = model.predict(val_X)\n",
    "                            features[f\"feature_{model_no}\"][val_idx, i:i+self.n_classies] = pred\n",
    "\n",
    "        # training meta model\n",
    "        print(\"Start training meta model\")\n",
    "        kf = KFold(n_splits=cv, random_state=6174, shuffle=True)\n",
    "\n",
    "        for train_idx, val_idx in tqdm(kf.split(features[f\"feature_{self.n_base}\"])):\n",
    "            train_X, val_X = \\\n",
    "                features[f\"feature_{self.n_base}\"][train_idx], features[f\"feature_{self.n_base}\"][val_idx]\n",
    "            train_y, val_y = y[train_idx], y[val_idx]\n",
    "            sc = StandardScaler()\n",
    "            train_X = sc.fit_transform(train_X)\n",
    "            val_X = sc.transform(val_X)\n",
    "\n",
    "            if \"sklearn\" in str(type(self.meta_model)):\n",
    "                self.meta_model.fit(train_X, train_y)\n",
    "                if self.task == \"regression\":\n",
    "                    pred = self.meta_model.predict(val_X)\n",
    "                else:\n",
    "                    pred = self.meta_model.predict_proba(val_X)\n",
    "            elif \"tensorflow\" in str(type(self.meta_model)):\n",
    "                ES = EarlyStopping(monitor=\"val_loss\", patience=5)\n",
    "                self.meta_model.fit(x=train_X, y=train_y, epochs=epochs,\n",
    "                                    batch_size=batch_size, validation_data=(val_X, val_y),\n",
    "                                    callbacks=[ES])\n",
    "                if self.task == \"regression\":\n",
    "                    pred = self.meta_model.predict(val_X)\n",
    "                else:\n",
    "                    pred = self.meta_model.predict(val_X)\n",
    "\n",
    "    def predict(self, X, cv=8):\n",
    "        features = {}\n",
    "        model_no = 0\n",
    "        features[f\"feature_{model_no}\"] = X\n",
    "        for models in tqdm(self.base_models.values()):\n",
    "            model_no += 1\n",
    "            if self.task == \"regression\":\n",
    "                features[f\"feature_{model_no}\"] = np.empty((X.shape[1],\n",
    "                                                            len(models)))\n",
    "            else:\n",
    "                features[f\"feature_{model_no}\"] = np.empty((X.shape[1],\n",
    "                                                            len(models)*self.n_classies))\n",
    "            kf = KFold(n_splits=cv, random_state=6174, shuffle=True)\n",
    "\n",
    "            for train_idx, val_idx in kf.split(features[f\"feature_{model_no-1}\"]):\n",
    "                train_X, val_X = \\\n",
    "                    features[f\"feature_{model_no-1}\"][train_idx], features[f\"feature_{model_no-1}\"][val_idx]\n",
    "\n",
    "                if model_no < 1:\n",
    "                    sc = StandardScaler()\n",
    "                    train_X = sc.fit_transoform(train_X)\n",
    "                    val_X = sc.transform(val_X)\n",
    "\n",
    "                for i, model in enumerate(models):\n",
    "                    if \"sklearn\" in str(type(model)):\n",
    "                        if self.task == \"regression\":\n",
    "                            pred = model.predict(val_X)\n",
    "                            features[f\"feature_{model_no}\"][val_idx, i] = pred.reshape(len(val_idx), -1)\n",
    "                        else:\n",
    "                            pred = model.predict_proba(val_X)\n",
    "                            features[f\"feature_{model_no}\"][val_idx, i:i+self.n_classies] = pred\n",
    "                    elif \"tensorflow\" in str(type(model)):\n",
    "                        if self.task == \"regression\":\n",
    "                            pred = model.predict(val_X)\n",
    "                            features[f\"feature_{model_no}\"][val_idx, i] = pred.reshape(len(val_idx), -1)\n",
    "                        else:\n",
    "                            pred = model.predict(val_X)\n",
    "                            features[f\"feature_{model_no}\"][val_idx, i:i+self.n_classies] = pred\n",
    "\n",
    "        kf = KFold(n_splits=cv, random_state=6174, shuffle=True)\n",
    "\n",
    "        for train_idx, val_idx in tqdm(kf.split(features[f\"feature_{self.n_base}\"])):\n",
    "            train_X, val_X = \\\n",
    "                features[f\"feature_{self.n_base}\"][train_idx], features[f\"feature_{self.n_base}\"][val_idx]\n",
    "            sc = StandardScaler()\n",
    "            train_X = sc.fit_transform(train_X)\n",
    "            val_X = sc.transform(val_X)\n",
    "\n",
    "            if \"sklearn\" in str(type(self.meta_model)):\n",
    "                if self.task == \"regression\":\n",
    "                    pred = self.meta_model.predict(val_X)\n",
    "                else:\n",
    "                    pred = self.meta_model.predict_proba(val_X)\n",
    "\n",
    "            elif \"tensorflow\" in str(type(self.meta_model)):\n",
    "                pred = self.meta_model.predict(val_X)\n",
    "\n",
    "        return pred"
   ]
  },
  {
   "cell_type": "code",
   "execution_count": 3,
   "id": "a0ea135c-dc4d-45cb-9e1c-5989dc87b306",
   "metadata": {},
   "outputs": [],
   "source": [
    "def create_nn(input_shape, outputs_shape):\n",
    "    inputs = layers.Input(shape=(2,))\n",
    "    hidden = layers.Dense(units=8, activation=\"relu\")(inputs)\n",
    "    outputs = layers.Dense(units=outputs_shape)(hidden)\n",
    "\n",
    "    model = models.Model(inputs=[inputs], outputs=[outputs])\n",
    "    model.compile(optimizer=optim.Adam(learning_rate=0.001),\n",
    "                  loss=losses.MeanSquaredError(),\n",
    "                  metrics=[\"mse\"])\n",
    "\n",
    "    return model"
   ]
  },
  {
   "cell_type": "code",
   "execution_count": 4,
   "id": "3d1afb96-4447-4bc0-ac9c-81f0dbdc759a",
   "metadata": {},
   "outputs": [],
   "source": [
    "X = np.random.rand(16, 16)\n",
    "y = np.random.normal(size=(16, 1))"
   ]
  },
  {
   "cell_type": "code",
   "execution_count": 5,
   "id": "52be7772-8ecb-47fa-b794-dbf1c37a6a17",
   "metadata": {},
   "outputs": [],
   "source": [
    "nn = create_nn(16, 1)\n",
    "knn = KNeighborsRegressor()\n",
    "ridge = Ridge()\n",
    "lasso = Lasso()\n",
    "linear = LinearRegression()"
   ]
  },
  {
   "cell_type": "code",
   "execution_count": 6,
   "id": "813018d9-7705-49f5-b05c-0784be081481",
   "metadata": {},
   "outputs": [],
   "source": [
    "base_models = [[knn, ridge], [lasso, nn]]\n",
    "meta_model = linear\n",
    "\n",
    "test = Stacking(base_models, meta_model, task=\"regression\")"
   ]
  },
  {
   "cell_type": "code",
   "execution_count": 7,
   "id": "d5c31fcb-7c55-43e6-b115-299c1a971301",
   "metadata": {
    "tags": []
   },
   "outputs": [
    {
     "name": "stdout",
     "output_type": "stream",
     "text": [
      "Start training base models\n"
     ]
    },
    {
     "data": {
      "application/vnd.jupyter.widget-view+json": {
       "model_id": "df6b22156d444555a2e35b4ea3211b60",
       "version_major": 2,
       "version_minor": 0
      },
      "text/plain": [
       "  0%|          | 0/2 [00:00<?, ?it/s]"
      ]
     },
     "metadata": {},
     "output_type": "display_data"
    },
    {
     "name": "stdout",
     "output_type": "stream",
     "text": [
      "8/8 [==============================] - 1s 17ms/step - loss: 0.5367 - mse: 0.5367 - val_loss: 0.8636 - val_mse: 0.8636\n",
      "8/8 [==============================] - 0s 7ms/step - loss: 0.8656 - mse: 0.8656 - val_loss: 0.5641 - val_mse: 0.5641\n"
     ]
    },
    {
     "data": {
      "application/vnd.jupyter.widget-view+json": {
       "model_id": "69880c1593d343bb9ac1b1822b0257ba",
       "version_major": 2,
       "version_minor": 0
      },
      "text/plain": [
       "0it [00:00, ?it/s]"
      ]
     },
     "metadata": {},
     "output_type": "display_data"
    }
   ],
   "source": [
    "test.train(X, y, cv=2, batch_size=1, epochs=1)"
   ]
  },
  {
   "cell_type": "code",
   "execution_count": null,
   "id": "c18e853a-09a4-4b0e-8c21-84c03b9f60bf",
   "metadata": {},
   "outputs": [],
   "source": []
  }
 ],
 "metadata": {
  "kernelspec": {
   "display_name": "Python 3",
   "language": "python",
   "name": "python3"
  },
  "language_info": {
   "codemirror_mode": {
    "name": "ipython",
    "version": 3
   },
   "file_extension": ".py",
   "mimetype": "text/x-python",
   "name": "python",
   "nbconvert_exporter": "python",
   "pygments_lexer": "ipython3",
   "version": "3.9.5"
  }
 },
 "nbformat": 4,
 "nbformat_minor": 5
}
